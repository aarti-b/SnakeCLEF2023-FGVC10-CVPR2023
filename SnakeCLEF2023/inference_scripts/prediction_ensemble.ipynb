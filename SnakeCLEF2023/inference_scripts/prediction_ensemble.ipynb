{
 "cells": [
  {
   "cell_type": "code",
   "execution_count": 2,
   "metadata": {
    "execution": {
     "iopub.execute_input": "2023-05-14T14:51:28.518292Z",
     "iopub.status.busy": "2023-05-14T14:51:28.517680Z",
     "iopub.status.idle": "2023-05-14T14:51:28.522743Z",
     "shell.execute_reply": "2023-05-14T14:51:28.522271Z",
     "shell.execute_reply.started": "2023-05-14T14:51:28.518268Z"
    }
   },
   "outputs": [
    {
     "name": "stdout",
     "output_type": "stream",
     "text": [
      "Device: cpu\n"
     ]
    }
   ],
   "source": [
    "import sys\n",
    "sys.path.append('/absolute-path/snakeCLEF/training_scripts')\n",
    "import numpy as np\n",
    "import pandas as pd\n",
    "import matplotlib.pyplot as plt\n",
    "from PIL import Image\n",
    "from tqdm import tqdm\n",
    "import torch\n",
    "from torch.utils.data import Dataset, DataLoader\n",
    "import src\n",
    "from src.core import models, data\n",
    "from src.utils import  io\n",
    "import torch.nn as nn\n",
    "\n",
    "DATA_DIR = '../../'\n",
    "\n",
    "\n",
    "MODEL_ARCH = 'vit_small_384' \n",
    "MODEL_NAME ='ensemble-model-clef2023_vit_small_384_ensemble_focal_05-14-2023_02-18-03'\n",
    "\n",
    "\n",
    "device = torch.device('cuda' if torch.cuda.is_available() else 'cpu')\n",
    "print(f'Device: {device}')"
   ]
  },
  {
   "cell_type": "code",
   "execution_count": 3,
   "metadata": {
    "execution": {
     "iopub.execute_input": "2023-05-14T14:51:05.925596Z",
     "iopub.status.busy": "2023-05-14T14:51:05.925186Z",
     "iopub.status.idle": "2023-05-14T14:51:05.947733Z",
     "shell.execute_reply": "2023-05-14T14:51:05.947208Z",
     "shell.execute_reply.started": "2023-05-14T14:51:05.925572Z"
    }
   },
   "outputs": [
    {
     "name": "stdout",
     "output_type": "stream",
     "text": [
      "Test set length: 14,071\n"
     ]
    },
    {
     "data": {
      "text/html": [
       "<div>\n",
       "<style scoped>\n",
       "    .dataframe tbody tr th:only-of-type {\n",
       "        vertical-align: middle;\n",
       "    }\n",
       "\n",
       "    .dataframe tbody tr th {\n",
       "        vertical-align: top;\n",
       "    }\n",
       "\n",
       "    .dataframe thead th {\n",
       "        text-align: right;\n",
       "    }\n",
       "</style>\n",
       "<table border=\"1\" class=\"dataframe\">\n",
       "  <thead>\n",
       "    <tr style=\"text-align: right;\">\n",
       "      <th></th>\n",
       "      <th>observation_id</th>\n",
       "      <th>captive</th>\n",
       "      <th>endemic</th>\n",
       "      <th>code</th>\n",
       "      <th>image_path</th>\n",
       "    </tr>\n",
       "  </thead>\n",
       "  <tbody>\n",
       "    <tr>\n",
       "      <th>0</th>\n",
       "      <td>5954638</td>\n",
       "      <td>False</td>\n",
       "      <td>False</td>\n",
       "      <td>US</td>\n",
       "      <td>pubtest/7437408.jpg</td>\n",
       "    </tr>\n",
       "    <tr>\n",
       "      <th>1</th>\n",
       "      <td>3074568</td>\n",
       "      <td>False</td>\n",
       "      <td>False</td>\n",
       "      <td>ID</td>\n",
       "      <td>pubtest/3543837.jpg</td>\n",
       "    </tr>\n",
       "    <tr>\n",
       "      <th>2</th>\n",
       "      <td>37207473</td>\n",
       "      <td>False</td>\n",
       "      <td>False</td>\n",
       "      <td>US</td>\n",
       "      <td>pubtest/58945588.jpg</td>\n",
       "    </tr>\n",
       "    <tr>\n",
       "      <th>3</th>\n",
       "      <td>37280098</td>\n",
       "      <td>False</td>\n",
       "      <td>False</td>\n",
       "      <td>TH</td>\n",
       "      <td>pubtest/59067915.jpg</td>\n",
       "    </tr>\n",
       "    <tr>\n",
       "      <th>4</th>\n",
       "      <td>116571</td>\n",
       "      <td>False</td>\n",
       "      <td>False</td>\n",
       "      <td>GY</td>\n",
       "      <td>pubtest/166608.JPG</td>\n",
       "    </tr>\n",
       "  </tbody>\n",
       "</table>\n",
       "</div>"
      ],
      "text/plain": [
       "   observation_id  captive  endemic code            image_path\n",
       "0         5954638    False    False   US   pubtest/7437408.jpg\n",
       "1         3074568    False    False   ID   pubtest/3543837.jpg\n",
       "2        37207473    False    False   US  pubtest/58945588.jpg\n",
       "3        37280098    False    False   TH  pubtest/59067915.jpg\n",
       "4          116571    False    False   GY    pubtest/166608.JPG"
      ]
     },
     "execution_count": 3,
     "metadata": {},
     "output_type": "execute_result"
    }
   ],
   "source": [
    "# load test metadata\n",
    "test_df = pd.read_csv('../../snake_csv_files/SnakeCLEF2023-PubTestMetadata.csv')\n",
    "\n",
    "print(f'Test set length: {len(test_df):,d}')\n",
    "test_df.head()"
   ]
  },
  {
   "cell_type": "code",
   "execution_count": 4,
   "metadata": {
    "execution": {
     "iopub.execute_input": "2023-05-14T14:51:06.990938Z",
     "iopub.status.busy": "2023-05-14T14:51:06.990267Z",
     "iopub.status.idle": "2023-05-14T14:51:06.996378Z",
     "shell.execute_reply": "2023-05-14T14:51:06.995649Z",
     "shell.execute_reply.started": "2023-05-14T14:51:06.990909Z"
    }
   },
   "outputs": [],
   "source": [
    "#test dataset \n",
    "\n",
    "class SnakeInferenceDataset(Dataset):\n",
    "    def __init__(self, data, transform = None):\n",
    "        self.data = data\n",
    "        self.transform = transform\n",
    "\n",
    "    def __len__(self):\n",
    "        return self.data.shape[0]\n",
    "\n",
    "    def __getitem__(self, index):\n",
    "        image = self.data.iloc[index]\n",
    "        img = Image.open(DATA_DIR+image.image_path).convert(\"RGB\")\n",
    "\n",
    "        if transform is not None:\n",
    "            img = self.transform(img)\n",
    "\n",
    "        return img"
   ]
  },
  {
   "cell_type": "code",
   "execution_count": 5,
   "metadata": {
    "execution": {
     "iopub.execute_input": "2023-05-14T14:51:34.576197Z",
     "iopub.status.busy": "2023-05-14T14:51:34.575566Z",
     "iopub.status.idle": "2023-05-14T14:51:37.190431Z",
     "shell.execute_reply": "2023-05-14T14:51:37.189832Z",
     "shell.execute_reply.started": "2023-05-14T14:51:34.576174Z"
    }
   },
   "outputs": [
    {
     "data": {
      "text/plain": [
       "<All keys matched successfully>"
      ]
     },
     "execution_count": 5,
     "metadata": {},
     "output_type": "execute_result"
    }
   ],
   "source": [
    "model_b = models.get_model(MODEL_ARCH, 1784, pretrained=True)\n",
    "\n",
    "\n",
    "class EnsembleNet(nn.Module):\n",
    "    def __init__(self, num_classes = 1784):\n",
    "        super(EnsembleNet, self).__init__()\n",
    "\n",
    "        self.model_a = model_b\n",
    "        # self.model_b = model_b\n",
    "        \n",
    "        self.classifier = nn.Sequential(\n",
    "            nn.Dropout(p=0.1),\n",
    "            nn.Linear(3568, 2048, bias=True),\n",
    "            nn.Tanh(),\n",
    "            nn.Dropout(p=0.1),\n",
    "            nn.Linear(2048, 1784, bias=True)\n",
    "        )\n",
    "\n",
    "    def forward(self, x):\n",
    "        logits_a = self.model_a(x)\n",
    "        # logits_b = self.model_b(x)\n",
    "        concatenated_vectors = torch.cat((logits_a, logits_a), dim=1)\n",
    "        output = self.classifier(concatenated_vectors)\n",
    "        return output\n",
    "\n",
    "model = EnsembleNet()\n",
    "state_dict = torch.load(MODEL_NAME, map_location=torch.device('cpu'))\n",
    "model.load_state_dict(state_dict)"
   ]
  },
  {
   "cell_type": "code",
   "execution_count": 7,
   "metadata": {
    "execution": {
     "iopub.execute_input": "2023-05-14T14:52:09.857558Z",
     "iopub.status.busy": "2023-05-14T14:52:09.856808Z",
     "iopub.status.idle": "2023-05-14T14:52:09.861981Z",
     "shell.execute_reply": "2023-05-14T14:52:09.861291Z",
     "shell.execute_reply.started": "2023-05-14T14:52:09.857534Z"
    }
   },
   "outputs": [],
   "source": [
    "model_config = model_b.pretrained_config\n",
    "batch_size = 128\n",
    "\n",
    "# create transforms\n",
    "_, test_tfms = data.get_transforms(\n",
    "    size=model_config['input_size'], mean=model_config['image_mean'],\n",
    "    std=model_config['image_std'])\n",
    "\n",
    "from torchvision import transforms\n",
    "\n",
    "transform = transforms.Compose([\n",
    "    # you can add other transformations in this list\n",
    "    transforms.Resize((384, 384)),\n",
    "    transforms.ToTensor()\n",
    "])"
   ]
  },
  {
   "cell_type": "code",
   "execution_count": 8,
   "metadata": {
    "execution": {
     "iopub.execute_input": "2023-05-14T14:52:18.736284Z",
     "iopub.status.busy": "2023-05-14T14:52:18.735643Z",
     "iopub.status.idle": "2023-05-14T14:52:22.423984Z",
     "shell.execute_reply": "2023-05-14T14:52:22.423144Z",
     "shell.execute_reply.started": "2023-05-14T14:52:18.736261Z"
    }
   },
   "outputs": [
    {
     "name": "stderr",
     "output_type": "stream",
     "text": [
      "100%|██████████| 440/440 [41:00<00:00,  5.59s/it]\n"
     ]
    }
   ],
   "source": [
    "prediction_list = []\n",
    "\n",
    "test_dataset = SnakeInferenceDataset(test_df, transform = transform) \n",
    "test_dataloader = DataLoader(test_dataset, batch_size = 32, shuffle = False)\n",
    "\n",
    "loop=tqdm(test_dataloader)\n",
    "for batch, X in enumerate(loop):\n",
    "    device = torch.device(device)\n",
    "    X = X.to(device)\n",
    "    with torch.no_grad():\n",
    "        preds = model(X)\n",
    "        final_result = torch.argmax(preds, axis=1)\n",
    "    prediction_list.append(final_result.tolist())\n"
   ]
  },
  {
   "cell_type": "code",
   "execution_count": 9,
   "metadata": {
    "execution": {
     "iopub.execute_input": "2023-05-13T01:12:58.407681Z",
     "iopub.status.busy": "2023-05-13T01:12:58.407411Z",
     "iopub.status.idle": "2023-05-13T01:12:58.412119Z",
     "shell.execute_reply": "2023-05-13T01:12:58.411277Z",
     "shell.execute_reply.started": "2023-05-13T01:12:58.407662Z"
    }
   },
   "outputs": [],
   "source": [
    "flat_list = [item for sublist in prediction_list for item in sublist]\n"
   ]
  },
  {
   "cell_type": "code",
   "execution_count": 10,
   "metadata": {
    "execution": {
     "iopub.execute_input": "2023-05-13T01:13:01.536187Z",
     "iopub.status.busy": "2023-05-13T01:13:01.535921Z",
     "iopub.status.idle": "2023-05-13T01:13:01.556602Z",
     "shell.execute_reply": "2023-05-13T01:13:01.556044Z",
     "shell.execute_reply.started": "2023-05-13T01:13:01.536168Z"
    }
   },
   "outputs": [],
   "source": [
    "df_prediction = pd.DataFrame(flat_list)\n",
    "df_prediction.to_csv('test_prediction.csv')"
   ]
  },
  {
   "cell_type": "code",
   "execution_count": 11,
   "metadata": {
    "execution": {
     "iopub.execute_input": "2023-05-13T01:13:02.820896Z",
     "iopub.status.busy": "2023-05-13T01:13:02.820620Z",
     "iopub.status.idle": "2023-05-13T01:13:02.825416Z",
     "shell.execute_reply": "2023-05-13T01:13:02.824825Z",
     "shell.execute_reply.started": "2023-05-13T01:13:02.820877Z"
    }
   },
   "outputs": [
    {
     "data": {
      "text/plain": [
       "(14071, 1)"
      ]
     },
     "execution_count": 11,
     "metadata": {},
     "output_type": "execute_result"
    }
   ],
   "source": [
    "df_prediction.columns = ['class_id']\n",
    "df_prediction.shape\n"
   ]
  },
  {
   "cell_type": "code",
   "execution_count": 12,
   "metadata": {
    "execution": {
     "iopub.execute_input": "2023-05-13T01:13:07.006296Z",
     "iopub.status.busy": "2023-05-13T01:13:07.005696Z",
     "iopub.status.idle": "2023-05-13T01:13:07.011919Z",
     "shell.execute_reply": "2023-05-13T01:13:07.010661Z",
     "shell.execute_reply.started": "2023-05-13T01:13:07.006266Z"
    }
   },
   "outputs": [
    {
     "data": {
      "text/plain": [
       "(14071, 5)"
      ]
     },
     "execution_count": 12,
     "metadata": {},
     "output_type": "execute_result"
    }
   ],
   "source": [
    "test_df.shape"
   ]
  },
  {
   "cell_type": "code",
   "execution_count": 13,
   "metadata": {
    "execution": {
     "iopub.execute_input": "2023-05-13T01:13:08.072001Z",
     "iopub.status.busy": "2023-05-13T01:13:08.071590Z",
     "iopub.status.idle": "2023-05-13T01:13:08.076768Z",
     "shell.execute_reply": "2023-05-13T01:13:08.075895Z",
     "shell.execute_reply.started": "2023-05-13T01:13:08.071980Z"
    }
   },
   "outputs": [],
   "source": [
    "final_df = pd.concat([ test_df['observation_id'], df_prediction], axis=1)"
   ]
  },
  {
   "cell_type": "code",
   "execution_count": 14,
   "metadata": {
    "execution": {
     "iopub.execute_input": "2023-05-13T01:13:09.180720Z",
     "iopub.status.busy": "2023-05-13T01:13:09.180431Z",
     "iopub.status.idle": "2023-05-13T01:13:09.188078Z",
     "shell.execute_reply": "2023-05-13T01:13:09.187115Z",
     "shell.execute_reply.started": "2023-05-13T01:13:09.180698Z"
    }
   },
   "outputs": [
    {
     "name": "stdout",
     "output_type": "stream",
     "text": [
      "(14071, 2)\n"
     ]
    },
    {
     "data": {
      "text/html": [
       "<div>\n",
       "<style scoped>\n",
       "    .dataframe tbody tr th:only-of-type {\n",
       "        vertical-align: middle;\n",
       "    }\n",
       "\n",
       "    .dataframe tbody tr th {\n",
       "        vertical-align: top;\n",
       "    }\n",
       "\n",
       "    .dataframe thead th {\n",
       "        text-align: right;\n",
       "    }\n",
       "</style>\n",
       "<table border=\"1\" class=\"dataframe\">\n",
       "  <thead>\n",
       "    <tr style=\"text-align: right;\">\n",
       "      <th></th>\n",
       "      <th>observation_id</th>\n",
       "      <th>class_id</th>\n",
       "    </tr>\n",
       "  </thead>\n",
       "  <tbody>\n",
       "    <tr>\n",
       "      <th>0</th>\n",
       "      <td>5954638</td>\n",
       "      <td>861</td>\n",
       "    </tr>\n",
       "    <tr>\n",
       "      <th>1</th>\n",
       "      <td>3074568</td>\n",
       "      <td>1513</td>\n",
       "    </tr>\n",
       "    <tr>\n",
       "      <th>2</th>\n",
       "      <td>37207473</td>\n",
       "      <td>860</td>\n",
       "    </tr>\n",
       "    <tr>\n",
       "      <th>3</th>\n",
       "      <td>37280098</td>\n",
       "      <td>995</td>\n",
       "    </tr>\n",
       "    <tr>\n",
       "      <th>4</th>\n",
       "      <td>116571</td>\n",
       "      <td>144</td>\n",
       "    </tr>\n",
       "  </tbody>\n",
       "</table>\n",
       "</div>"
      ],
      "text/plain": [
       "   observation_id  class_id\n",
       "0         5954638       861\n",
       "1         3074568      1513\n",
       "2        37207473       860\n",
       "3        37280098       995\n",
       "4          116571       144"
      ]
     },
     "execution_count": 14,
     "metadata": {},
     "output_type": "execute_result"
    }
   ],
   "source": [
    "print(final_df.shape)\n",
    "final_df.head()\n"
   ]
  },
  {
   "cell_type": "code",
   "execution_count": 15,
   "metadata": {
    "execution": {
     "iopub.execute_input": "2023-05-13T01:13:13.241096Z",
     "iopub.status.busy": "2023-05-13T01:13:13.240452Z",
     "iopub.status.idle": "2023-05-13T01:13:13.249246Z",
     "shell.execute_reply": "2023-05-13T01:13:13.248460Z",
     "shell.execute_reply.started": "2023-05-13T01:13:13.241074Z"
    }
   },
   "outputs": [],
   "source": [
    "df = final_df.drop_duplicates('observation_id', keep='last')\n"
   ]
  },
  {
   "cell_type": "code",
   "execution_count": 16,
   "metadata": {
    "execution": {
     "iopub.execute_input": "2023-05-13T01:13:14.272601Z",
     "iopub.status.busy": "2023-05-13T01:13:14.272064Z",
     "iopub.status.idle": "2023-05-13T01:13:14.279704Z",
     "shell.execute_reply": "2023-05-13T01:13:14.278614Z",
     "shell.execute_reply.started": "2023-05-13T01:13:14.272571Z"
    }
   },
   "outputs": [
    {
     "data": {
      "text/html": [
       "<div>\n",
       "<style scoped>\n",
       "    .dataframe tbody tr th:only-of-type {\n",
       "        vertical-align: middle;\n",
       "    }\n",
       "\n",
       "    .dataframe tbody tr th {\n",
       "        vertical-align: top;\n",
       "    }\n",
       "\n",
       "    .dataframe thead th {\n",
       "        text-align: right;\n",
       "    }\n",
       "</style>\n",
       "<table border=\"1\" class=\"dataframe\">\n",
       "  <thead>\n",
       "    <tr style=\"text-align: right;\">\n",
       "      <th></th>\n",
       "      <th>observation_id</th>\n",
       "      <th>class_id</th>\n",
       "    </tr>\n",
       "  </thead>\n",
       "  <tbody>\n",
       "    <tr>\n",
       "      <th>0</th>\n",
       "      <td>5954638</td>\n",
       "      <td>861</td>\n",
       "    </tr>\n",
       "    <tr>\n",
       "      <th>1</th>\n",
       "      <td>3074568</td>\n",
       "      <td>1513</td>\n",
       "    </tr>\n",
       "    <tr>\n",
       "      <th>2</th>\n",
       "      <td>37207473</td>\n",
       "      <td>860</td>\n",
       "    </tr>\n",
       "    <tr>\n",
       "      <th>3</th>\n",
       "      <td>37280098</td>\n",
       "      <td>995</td>\n",
       "    </tr>\n",
       "    <tr>\n",
       "      <th>4</th>\n",
       "      <td>116571</td>\n",
       "      <td>144</td>\n",
       "    </tr>\n",
       "  </tbody>\n",
       "</table>\n",
       "</div>"
      ],
      "text/plain": [
       "   observation_id  class_id\n",
       "0         5954638       861\n",
       "1         3074568      1513\n",
       "2        37207473       860\n",
       "3        37280098       995\n",
       "4          116571       144"
      ]
     },
     "execution_count": 16,
     "metadata": {},
     "output_type": "execute_result"
    }
   ],
   "source": [
    "df.head()"
   ]
  },
  {
   "cell_type": "code",
   "execution_count": 17,
   "metadata": {
    "execution": {
     "iopub.execute_input": "2023-05-13T01:13:21.559050Z",
     "iopub.status.busy": "2023-05-13T01:13:21.558772Z",
     "iopub.status.idle": "2023-05-13T01:13:21.563199Z",
     "shell.execute_reply": "2023-05-13T01:13:21.562700Z",
     "shell.execute_reply.started": "2023-05-13T01:13:21.559030Z"
    }
   },
   "outputs": [
    {
     "data": {
      "text/plain": [
       "(7811, 2)"
      ]
     },
     "execution_count": 17,
     "metadata": {},
     "output_type": "execute_result"
    }
   ],
   "source": [
    "df.shape"
   ]
  },
  {
   "cell_type": "code",
   "execution_count": 18,
   "metadata": {
    "execution": {
     "iopub.execute_input": "2023-05-13T01:13:24.476384Z",
     "iopub.status.busy": "2023-05-13T01:13:24.476103Z",
     "iopub.status.idle": "2023-05-13T01:13:24.489867Z",
     "shell.execute_reply": "2023-05-13T01:13:24.489185Z",
     "shell.execute_reply.started": "2023-05-13T01:13:24.476363Z"
    }
   },
   "outputs": [],
   "source": [
    "df.to_csv('snake_prediction.csv', index=False)"
   ]
  },
  {
   "cell_type": "code",
   "execution_count": null,
   "metadata": {},
   "outputs": [],
   "source": []
  },
  {
   "cell_type": "code",
   "execution_count": null,
   "metadata": {},
   "outputs": [],
   "source": []
  }
 ],
 "metadata": {
  "interpreter": {
   "hash": "f615393229ba2fb2db268572fee62c0b9d9268a262e5ddcf86870f4fdd32986a"
  },
  "kernelspec": {
   "display_name": "Python 3 (ipykernel)",
   "language": "python",
   "name": "python3"
  },
  "language_info": {
   "codemirror_mode": {
    "name": "ipython",
    "version": 3
   },
   "file_extension": ".py",
   "mimetype": "text/x-python",
   "name": "python",
   "nbconvert_exporter": "python",
   "pygments_lexer": "ipython3",
   "version": "3.9.7"
  }
 },
 "nbformat": 4,
 "nbformat_minor": 4
}
