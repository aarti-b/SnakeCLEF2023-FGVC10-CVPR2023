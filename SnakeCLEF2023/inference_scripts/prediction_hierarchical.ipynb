{
 "cells": [
  {
   "cell_type": "code",
   "execution_count": 1,
   "metadata": {},
   "outputs": [
    {
     "name": "stderr",
     "output_type": "stream",
     "text": [
      "/Users/aartibalana/Documents/transfer-learning/snakeCLEF/.env/lib/python3.9/site-packages/tqdm/auto.py:21: TqdmWarning: IProgress not found. Please update jupyter and ipywidgets. See https://ipywidgets.readthedocs.io/en/stable/user_install.html\n",
      "  from .autonotebook import tqdm as notebook_tqdm\n"
     ]
    },
    {
     "name": "stdout",
     "output_type": "stream",
     "text": [
      "Device: cpu\n"
     ]
    }
   ],
   "source": [
    "import sys\n",
    "sys.path.append('/absolute-pathtofolder/snakeCLEF/training_scripts')\n",
    "import numpy as np\n",
    "import pandas as pd\n",
    "import matplotlib.pyplot as plt\n",
    "from PIL import Image\n",
    "from tqdm import tqdm\n",
    "import torch\n",
    "from torch.utils.data import Dataset, DataLoader\n",
    "from torchvision import transforms as T\n",
    "\n",
    "from src.core import models, training, data\n",
    "\n",
    "DATA_DIR = '../../'\n",
    "\n",
    "MODEL_ARCH_V_NV='vit_small_384'\n",
    "MODEL_NAME_V_NV='vornot-clef2023_vit_small_384_efocal_05-22-2023_16-25-34'\n",
    "\n",
    "MODEL_ARCH_V = 'vit_small_384'\n",
    "MODEL_NAME_V ='venom-clef2023_vit_small_384_ensemble_focal_05-22-2023_05-09-10'\n",
    "\n",
    "MODEL_ARCH_NV='vit_small_384'\n",
    "MODEL_NAME_NV ='non_v-clef2023_vit_small_384_ensemble_focal_05-22-2023_12-38-44'\n",
    "\n",
    "\n",
    "device = torch.device('cuda' if torch.cuda.is_available() else 'cpu')\n",
    "print(f'Device: {device}')\n"
   ]
  },
  {
   "cell_type": "code",
   "execution_count": 2,
   "metadata": {},
   "outputs": [
    {
     "name": "stdout",
     "output_type": "stream",
     "text": [
      "Test set length: 14,071\n"
     ]
    },
    {
     "data": {
      "text/html": [
       "<div>\n",
       "<style scoped>\n",
       "    .dataframe tbody tr th:only-of-type {\n",
       "        vertical-align: middle;\n",
       "    }\n",
       "\n",
       "    .dataframe tbody tr th {\n",
       "        vertical-align: top;\n",
       "    }\n",
       "\n",
       "    .dataframe thead th {\n",
       "        text-align: right;\n",
       "    }\n",
       "</style>\n",
       "<table border=\"1\" class=\"dataframe\">\n",
       "  <thead>\n",
       "    <tr style=\"text-align: right;\">\n",
       "      <th></th>\n",
       "      <th>observation_id</th>\n",
       "      <th>captive</th>\n",
       "      <th>endemic</th>\n",
       "      <th>code</th>\n",
       "      <th>image_path</th>\n",
       "    </tr>\n",
       "  </thead>\n",
       "  <tbody>\n",
       "    <tr>\n",
       "      <th>0</th>\n",
       "      <td>5954638</td>\n",
       "      <td>False</td>\n",
       "      <td>False</td>\n",
       "      <td>US</td>\n",
       "      <td>pubtest/7437408.jpg</td>\n",
       "    </tr>\n",
       "    <tr>\n",
       "      <th>1</th>\n",
       "      <td>3074568</td>\n",
       "      <td>False</td>\n",
       "      <td>False</td>\n",
       "      <td>ID</td>\n",
       "      <td>pubtest/3543837.jpg</td>\n",
       "    </tr>\n",
       "    <tr>\n",
       "      <th>2</th>\n",
       "      <td>37207473</td>\n",
       "      <td>False</td>\n",
       "      <td>False</td>\n",
       "      <td>US</td>\n",
       "      <td>pubtest/58945588.jpg</td>\n",
       "    </tr>\n",
       "    <tr>\n",
       "      <th>3</th>\n",
       "      <td>37280098</td>\n",
       "      <td>False</td>\n",
       "      <td>False</td>\n",
       "      <td>TH</td>\n",
       "      <td>pubtest/59067915.jpg</td>\n",
       "    </tr>\n",
       "    <tr>\n",
       "      <th>4</th>\n",
       "      <td>116571</td>\n",
       "      <td>False</td>\n",
       "      <td>False</td>\n",
       "      <td>GY</td>\n",
       "      <td>pubtest/166608.JPG</td>\n",
       "    </tr>\n",
       "  </tbody>\n",
       "</table>\n",
       "</div>"
      ],
      "text/plain": [
       "   observation_id  captive  endemic code            image_path\n",
       "0         5954638    False    False   US   pubtest/7437408.jpg\n",
       "1         3074568    False    False   ID   pubtest/3543837.jpg\n",
       "2        37207473    False    False   US  pubtest/58945588.jpg\n",
       "3        37280098    False    False   TH  pubtest/59067915.jpg\n",
       "4          116571    False    False   GY    pubtest/166608.JPG"
      ]
     },
     "execution_count": 2,
     "metadata": {},
     "output_type": "execute_result"
    }
   ],
   "source": [
    "# load test metadata\n",
    "test_df = pd.read_csv('../../snake_csv_files/SnakeCLEF2023-PubTestMetadata.csv')\n",
    "\n",
    "print(f'Test set length: {len(test_df):,d}')\n",
    "test_df.head()\n"
   ]
  },
  {
   "cell_type": "code",
   "execution_count": 3,
   "metadata": {},
   "outputs": [],
   "source": [
    "#test dataset \n",
    "\n",
    "class SnakeInferenceDataset(Dataset):\n",
    "    def __init__(self, data, transform = None):\n",
    "        self.data = data\n",
    "        self.transform = transform\n",
    "\n",
    "    def __len__(self):\n",
    "        return self.data.shape[0]\n",
    "\n",
    "    def __getitem__(self, index):\n",
    "        image = self.data.iloc[index]\n",
    "        img = Image.open(DATA_DIR+image.image_path).convert(\"RGB\")\n",
    "\n",
    "        if transform is not None:\n",
    "            img = self.transform(img)\n",
    "\n",
    "        return img"
   ]
  },
  {
   "cell_type": "code",
   "execution_count": 4,
   "metadata": {},
   "outputs": [],
   "source": [
    "# create fine-tuned network\n",
    "model_nv = models.get_model(MODEL_ARCH_NV, 1457, pretrained=False)\n",
    "training.load_model(model_nv, MODEL_NAME_NV, path='../results/models/')\n",
    "\n",
    "model_v = models.get_model(MODEL_ARCH_V, 327, pretrained=False)\n",
    "training.load_model(model_v, MODEL_NAME_V, path='../results/models/')\n",
    "\n",
    "model_v_nv = models.get_model(MODEL_ARCH_V_NV, 2, pretrained=False)\n",
    "training.load_model(model_v_nv, MODEL_NAME_V_NV, path='../results/models/')\n",
    "\n",
    "'''\n",
    "All three models are same so config is same\n",
    "'''\n",
    "\n",
    "model_config = model_v_nv.pretrained_config\n",
    "\n",
    "batch_size = 1\n",
    "\n",
    "\n",
    "def get_transforms(*, size=224, mean=(0.485, 0.456, 0.406), std=(0.229, 0.224, 0.225)):\n",
    "    \"\"\"Create basic image transforms for training or validation dataset.\"\"\"\n",
    "    train_tfms = T.Compose([\n",
    "        T.RandomResizedCrop((size, size), scale=(0.8, 1.0)),\n",
    "        T.RandomHorizontalFlip(p=0.5),\n",
    "        T.RandomVerticalFlip(p=0.5),\n",
    "        T.RandomApply(torch.nn.ModuleList([\n",
    "            T.ColorJitter(brightness=0.2, contrast=0.2)\n",
    "        ]), p=0.2),  # random brightness contrast\n",
    "        T.ToTensor(),\n",
    "        T.Normalize(mean, std)])\n",
    "    valid_tfms = T.Compose([\n",
    "        T.Resize((size, size)),\n",
    "        T.ToTensor(),\n",
    "        T.Normalize(mean, std)])\n",
    "    return train_tfms, valid_tfms\n",
    "\n",
    "\n",
    "# create transforms\n",
    "_, test_tfms = get_transforms(\n",
    "    size=model_config['input_size'], mean=model_config['image_mean'],\n",
    "    std=model_config['image_std'])\n",
    "\n",
    "from torchvision import transforms\n",
    "\n",
    "transform = transforms.Compose([\n",
    "    # you can add other transformations in this list\n",
    "    transforms.Resize((384, 384)),\n",
    "    transforms.ToTensor()\n",
    "])"
   ]
  },
  {
   "cell_type": "code",
   "execution_count": 17,
   "metadata": {},
   "outputs": [
    {
     "name": "stderr",
     "output_type": "stream",
     "text": [
      "100%|██████████| 14071/14071 [1:11:44<00:00,  3.27it/s]\n"
     ]
    }
   ],
   "source": [
    "'''\n",
    "CPU run\n",
    "'''\n",
    "prediction_list = []\n",
    "\n",
    "test_dataset = SnakeInferenceDataset(test_df, transform = transform) \n",
    "test_dataloader = DataLoader(test_dataset, batch_size = batch_size, shuffle = False)\n",
    "\n",
    "loop=tqdm(test_dataloader)\n",
    "for batch, X in enumerate(loop):\n",
    "\n",
    "  device = torch.device(device)\n",
    "  X = X.to(device)\n",
    "  \n",
    "  with torch.no_grad():\n",
    "    preds = model_v_nv(X)\n",
    "    final_result = torch.argmax(preds, axis=1)\n",
    "\n",
    "    if final_result==1:\n",
    "      pred = model_v(X)\n",
    "      res = torch.argmax(pred, axis=1)\n",
    "\n",
    "    elif final_result==0:\n",
    "      pred = model_nv(X)\n",
    "      res = torch.argmax(pred, axis=1)\n",
    "\n",
    "    prediction_list.append(res.tolist())\n"
   ]
  },
  {
   "cell_type": "code",
   "execution_count": 18,
   "metadata": {},
   "outputs": [],
   "source": [
    "flat_list = [item for sublist in prediction_list for item in sublist]\n"
   ]
  },
  {
   "cell_type": "code",
   "execution_count": 19,
   "metadata": {},
   "outputs": [],
   "source": [
    "df_prediction = pd.DataFrame(flat_list)\n",
    "df_prediction.to_csv('test_prediction.csv')"
   ]
  },
  {
   "cell_type": "code",
   "execution_count": 20,
   "metadata": {},
   "outputs": [
    {
     "data": {
      "text/plain": [
       "(14071, 1)"
      ]
     },
     "execution_count": 20,
     "metadata": {},
     "output_type": "execute_result"
    }
   ],
   "source": [
    "df_prediction.columns = ['class_id']\n",
    "df_prediction.shape\n"
   ]
  },
  {
   "cell_type": "code",
   "execution_count": 21,
   "metadata": {},
   "outputs": [
    {
     "data": {
      "text/plain": [
       "(14071, 5)"
      ]
     },
     "execution_count": 21,
     "metadata": {},
     "output_type": "execute_result"
    }
   ],
   "source": [
    "test_df.shape"
   ]
  },
  {
   "cell_type": "code",
   "execution_count": 22,
   "metadata": {},
   "outputs": [],
   "source": [
    "final_df = pd.concat([ test_df['observation_id'], df_prediction], axis=1)"
   ]
  },
  {
   "cell_type": "code",
   "execution_count": 23,
   "metadata": {},
   "outputs": [
    {
     "name": "stdout",
     "output_type": "stream",
     "text": [
      "(14071, 2)\n"
     ]
    },
    {
     "data": {
      "text/html": [
       "<div>\n",
       "<style scoped>\n",
       "    .dataframe tbody tr th:only-of-type {\n",
       "        vertical-align: middle;\n",
       "    }\n",
       "\n",
       "    .dataframe tbody tr th {\n",
       "        vertical-align: top;\n",
       "    }\n",
       "\n",
       "    .dataframe thead th {\n",
       "        text-align: right;\n",
       "    }\n",
       "</style>\n",
       "<table border=\"1\" class=\"dataframe\">\n",
       "  <thead>\n",
       "    <tr style=\"text-align: right;\">\n",
       "      <th></th>\n",
       "      <th>observation_id</th>\n",
       "      <th>class_id</th>\n",
       "    </tr>\n",
       "  </thead>\n",
       "  <tbody>\n",
       "    <tr>\n",
       "      <th>0</th>\n",
       "      <td>5954638</td>\n",
       "      <td>725</td>\n",
       "    </tr>\n",
       "    <tr>\n",
       "      <th>1</th>\n",
       "      <td>3074568</td>\n",
       "      <td>1249</td>\n",
       "    </tr>\n",
       "    <tr>\n",
       "      <th>2</th>\n",
       "      <td>37207473</td>\n",
       "      <td>709</td>\n",
       "    </tr>\n",
       "    <tr>\n",
       "      <th>3</th>\n",
       "      <td>37280098</td>\n",
       "      <td>230</td>\n",
       "    </tr>\n",
       "    <tr>\n",
       "      <th>4</th>\n",
       "      <td>116571</td>\n",
       "      <td>118</td>\n",
       "    </tr>\n",
       "  </tbody>\n",
       "</table>\n",
       "</div>"
      ],
      "text/plain": [
       "   observation_id  class_id\n",
       "0         5954638       725\n",
       "1         3074568      1249\n",
       "2        37207473       709\n",
       "3        37280098       230\n",
       "4          116571       118"
      ]
     },
     "execution_count": 23,
     "metadata": {},
     "output_type": "execute_result"
    }
   ],
   "source": [
    "print(final_df.shape)\n",
    "final_df.head()\n"
   ]
  },
  {
   "cell_type": "code",
   "execution_count": 24,
   "metadata": {},
   "outputs": [],
   "source": [
    "df = final_df.drop_duplicates('observation_id', keep='last')\n"
   ]
  },
  {
   "cell_type": "code",
   "execution_count": 25,
   "metadata": {},
   "outputs": [
    {
     "data": {
      "text/html": [
       "<div>\n",
       "<style scoped>\n",
       "    .dataframe tbody tr th:only-of-type {\n",
       "        vertical-align: middle;\n",
       "    }\n",
       "\n",
       "    .dataframe tbody tr th {\n",
       "        vertical-align: top;\n",
       "    }\n",
       "\n",
       "    .dataframe thead th {\n",
       "        text-align: right;\n",
       "    }\n",
       "</style>\n",
       "<table border=\"1\" class=\"dataframe\">\n",
       "  <thead>\n",
       "    <tr style=\"text-align: right;\">\n",
       "      <th></th>\n",
       "      <th>observation_id</th>\n",
       "      <th>class_id</th>\n",
       "    </tr>\n",
       "  </thead>\n",
       "  <tbody>\n",
       "    <tr>\n",
       "      <th>0</th>\n",
       "      <td>5954638</td>\n",
       "      <td>725</td>\n",
       "    </tr>\n",
       "    <tr>\n",
       "      <th>1</th>\n",
       "      <td>3074568</td>\n",
       "      <td>1249</td>\n",
       "    </tr>\n",
       "    <tr>\n",
       "      <th>2</th>\n",
       "      <td>37207473</td>\n",
       "      <td>709</td>\n",
       "    </tr>\n",
       "    <tr>\n",
       "      <th>3</th>\n",
       "      <td>37280098</td>\n",
       "      <td>230</td>\n",
       "    </tr>\n",
       "    <tr>\n",
       "      <th>4</th>\n",
       "      <td>116571</td>\n",
       "      <td>118</td>\n",
       "    </tr>\n",
       "  </tbody>\n",
       "</table>\n",
       "</div>"
      ],
      "text/plain": [
       "   observation_id  class_id\n",
       "0         5954638       725\n",
       "1         3074568      1249\n",
       "2        37207473       709\n",
       "3        37280098       230\n",
       "4          116571       118"
      ]
     },
     "execution_count": 25,
     "metadata": {},
     "output_type": "execute_result"
    }
   ],
   "source": [
    "df.head()"
   ]
  },
  {
   "cell_type": "code",
   "execution_count": 26,
   "metadata": {},
   "outputs": [
    {
     "data": {
      "text/plain": [
       "(7811, 2)"
      ]
     },
     "execution_count": 26,
     "metadata": {},
     "output_type": "execute_result"
    }
   ],
   "source": [
    "df.shape"
   ]
  },
  {
   "cell_type": "code",
   "execution_count": 27,
   "metadata": {},
   "outputs": [],
   "source": [
    "df.to_csv('snake_prediction.csv', index=False)"
   ]
  },
  {
   "cell_type": "code",
   "execution_count": null,
   "metadata": {},
   "outputs": [],
   "source": []
  }
 ],
 "metadata": {
  "interpreter": {
   "hash": "f615393229ba2fb2db268572fee62c0b9d9268a262e5ddcf86870f4fdd32986a"
  },
  "kernelspec": {
   "display_name": "Python 3.8.13 ('stereo')",
   "language": "python",
   "name": "python3"
  },
  "language_info": {
   "codemirror_mode": {
    "name": "ipython",
    "version": 3
   },
   "file_extension": ".py",
   "mimetype": "text/x-python",
   "name": "python",
   "nbconvert_exporter": "python",
   "pygments_lexer": "ipython3",
   "version": "3.9.7"
  },
  "orig_nbformat": 4
 },
 "nbformat": 4,
 "nbformat_minor": 2
}
