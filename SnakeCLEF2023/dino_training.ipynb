{
 "cells": [
  {
   "cell_type": "code",
   "execution_count": 43,
   "id": "b31c2544-5c22-43c1-8ed4-b5baa4b09fa2",
   "metadata": {
    "execution": {
     "iopub.execute_input": "2023-05-02T10:11:04.054711Z",
     "iopub.status.busy": "2023-05-02T10:11:04.054225Z",
     "iopub.status.idle": "2023-05-02T10:11:05.861477Z",
     "shell.execute_reply": "2023-05-02T10:11:05.860259Z",
     "shell.execute_reply.started": "2023-05-02T10:11:04.054680Z"
    }
   },
   "outputs": [
    {
     "name": "stdout",
     "output_type": "stream",
     "text": [
      "Device: cpu\n"
     ]
    }
   ],
   "source": [
    "from datetime import datetime\n",
    "from torch.utils.data import DataLoader, Dataset\n",
    "import numpy as np\n",
    "import pandas as pd\n",
    "import matplotlib.pyplot as plt\n",
    "import torchvision.transforms.functional as TF\n",
    "\n",
    "from PIL import Image\n",
    "import os\n",
    "import torch\n",
    "import random\n",
    "from torchvision import transforms as T\n",
    "from src.core import models, metrics, training, training_dino, data, loss_functions\n",
    "from src.dev import experiments as experiments\n",
    "\n",
    "DATA_DIR = '../SnakeCLEF2023-medium_size-train/'\n",
    "VAL_DIR='../SnakeCLEF2023-medium_size-val'\n",
    "\n",
    "# set seed for reproducibility\n",
    "\n",
    "seed = 42\n",
    "random.seed(seed)\n",
    "os.environ['PYTHONHASHSEED'] = str(seed)\n",
    "np.random.seed(seed)\n",
    "torch.manual_seed(seed)\n",
    "torch.cuda.manual_seed(seed)\n",
    "torch.cuda.manual_seed_all(seed)\n",
    "torch.backends.cudnn.deterministic = True\n",
    "\n",
    "device = torch.device('cuda' if torch.cuda.is_available() else 'cpu')\n",
    "print(f'Device: {device}')"
   ]
  },
  {
   "cell_type": "code",
   "execution_count": 44,
   "id": "46d9b89b",
   "metadata": {},
   "outputs": [
    {
     "name": "stdout",
     "output_type": "stream",
     "text": [
      "No. of classes: 1784\n",
      "Train set length: 120,550\n",
      "Validation set length: 10,985\n"
     ]
    }
   ],
   "source": [
    "# load metadata\n",
    "train_df = pd.read_csv('../snake_csv_files/snakeCLEF2023_bbox_cleaned_train_metadata.csv')\n",
    "valid_df = pd.read_csv('../snake_csv_files/SnakeCLEF2023-cleaned-metadata-val.csv')\n",
    "\n",
    "\n",
    "train_df.head()\n",
    "classes = np.unique(train_df['binomial'])\n",
    "no_classes = len(classes)\n",
    "\n",
    "\n",
    "print(f'No. of classes: {no_classes}')\n",
    "print(f'Train set length: {len(train_df):,d}')\n",
    "print(f'Validation set length: {len(valid_df):,d}')"
   ]
  },
  {
   "cell_type": "code",
   "execution_count": 46,
   "id": "a737530a-baa2-488d-a1d4-0c3219674cd9",
   "metadata": {
    "execution": {
     "iopub.execute_input": "2023-05-02T10:11:16.445703Z",
     "iopub.status.busy": "2023-05-02T10:11:16.444129Z",
     "iopub.status.idle": "2023-05-02T10:11:16.454734Z",
     "shell.execute_reply": "2023-05-02T10:11:16.453041Z",
     "shell.execute_reply.started": "2023-05-02T10:11:16.445703Z"
    }
   },
   "outputs": [],
   "source": [
    "class CFG:\n",
    "\n",
    "    N_CLASS=no_classes\n",
    "    model_name= 'clef2023_dinov2_focal_'+datetime.now().strftime(\"%Y_%m_%d-%I_%M_%S_%p\")\n",
    "    history_file= 'clef2023_dinov2_focal_'+datetime.now().strftime(\"%Y_%m_%d-%I_%M_%S_%p\")+'.csv'\n",
    "    data='clef2023'\n",
    "    model = 'dino_v2'\n",
    "    batch_size=2\n",
    "    no_epochs=5\n",
    "    total_batch_size=2\n",
    "    loss='efocal'\n",
    "    optimizer = 'sgd'\n",
    "    learning_rate=0.01\n",
    "    scheduler = 'reduce_lr_on_plateau'\n",
    "    shuffle=True\n"
   ]
  },
  {
   "cell_type": "code",
   "execution_count": 47,
   "id": "fe14e238-ebf2-4148-8cfc-ccb9dcf3b6d3",
   "metadata": {
    "execution": {
     "iopub.execute_input": "2023-05-02T10:11:18.719191Z",
     "iopub.status.busy": "2023-05-02T10:11:18.718851Z",
     "iopub.status.idle": "2023-05-02T10:11:18.725899Z",
     "shell.execute_reply": "2023-05-02T10:11:18.724941Z",
     "shell.execute_reply.started": "2023-05-02T10:11:18.719166Z"
    }
   },
   "outputs": [],
   "source": [
    "class LinearClassifier(torch.nn.Module):\n",
    "    def __init__(self, in_channels, classes):\n",
    "        super(LinearClassifier, self).__init__()\n",
    "        self.in_channels=in_channels\n",
    "        self.classes=classes\n",
    "        self.fc=torch.nn.Sequential(\n",
    "               torch.nn.Linear(self.in_channels, 2048),\n",
    "               torch.nn.ReLU(inplace=True),\n",
    "               torch.nn.Linear(2048, classes))\n",
    "        \n",
    "    def forward(self,x):\n",
    "        return self.fc(x)"
   ]
  },
  {
   "cell_type": "code",
   "execution_count": 48,
   "id": "fa956ae1",
   "metadata": {},
   "outputs": [],
   "source": [
    "model=LinearClassifier(1536,CFG.N_CLASS).to(device)"
   ]
  },
  {
   "cell_type": "code",
   "execution_count": 49,
   "id": "e4395e13-86dc-4036-ad8e-e86aad426cef",
   "metadata": {
    "execution": {
     "iopub.execute_input": "2023-05-02T10:11:22.622429Z",
     "iopub.status.busy": "2023-05-02T10:11:22.622401Z",
     "iopub.status.idle": "2023-05-02T10:12:25.259914Z",
     "shell.execute_reply": "2023-05-02T10:12:25.258933Z",
     "shell.execute_reply.started": "2023-05-02T10:11:22.622401Z"
    }
   },
   "outputs": [
    {
     "name": "stderr",
     "output_type": "stream",
     "text": [
      "Using cache found in /Users/aartibalana/.cache/torch/hub/facebookresearch_dinov2_main\n"
     ]
    }
   ],
   "source": [
    "patch_h = 40\n",
    "patch_w = 40\n",
    "feat_dim = 1536 # vitg14\n",
    "\n",
    "dinov2_vitg14 = torch.hub.load('facebookresearch/dinov2', 'dinov2_vitg14').to(device)"
   ]
  },
  {
   "cell_type": "code",
   "execution_count": null,
   "id": "688d4c50-cdb9-4ae2-9607-a455cac91f2f",
   "metadata": {
    "execution": {
     "iopub.execute_input": "2023-05-02T10:13:23.053636Z",
     "iopub.status.busy": "2023-05-02T10:13:23.053186Z",
     "iopub.status.idle": "2023-05-02T10:13:23.154394Z",
     "shell.execute_reply": "2023-05-02T10:13:23.153594Z",
     "shell.execute_reply.started": "2023-05-02T10:13:23.053601Z"
    }
   },
   "outputs": [],
   "source": []
  },
  {
   "cell_type": "code",
   "execution_count": 55,
   "id": "6fe5627c-57bf-4942-ab6e-7723b9f255da",
   "metadata": {
    "execution": {
     "iopub.execute_input": "2023-05-02T10:13:24.534747Z",
     "iopub.status.busy": "2023-05-02T10:13:24.534332Z",
     "iopub.status.idle": "2023-05-02T10:13:24.542497Z",
     "shell.execute_reply": "2023-05-02T10:13:24.541140Z",
     "shell.execute_reply.started": "2023-05-02T10:13:24.534721Z"
    }
   },
   "outputs": [],
   "source": [
    "'''\n",
    "Dataset class \n",
    "\n",
    "'''\n",
    "class SnakeTrainDataset(Dataset):\n",
    "\n",
    "    def __init__(self, root, data, bbox=False, transform = None):\n",
    "        self.root=root\n",
    "        self.data=data\n",
    "        self.transform=transform\n",
    "        self.bbox=bbox\n",
    "\n",
    "    def __len__(self):\n",
    "        return self.data.shape[0]\n",
    "\n",
    "    def __getitem__(self, index):\n",
    "\n",
    "        image = self.data.iloc[index]\n",
    "        img = Image.open(self.root+image.image_path).convert(\"RGB\")\n",
    "        img=TF.adjust_sharpness(img, 20.0)\n",
    "        \n",
    "        if self.bbox is not False:\n",
    "            x_min = self.data['xmin'].values[index]\n",
    "            y_min=self.data['ymin'].values[index]\n",
    "            x_max=self.data['xmax'].values[index]\n",
    "            y_max=self.data['ymax'].values[index]\n",
    "            img=img.crop((x_min, y_min, x_max, y_max))\n",
    "        else:\n",
    "            img=img\n",
    "\n",
    "        label = torch.tensor(image.class_id)\n",
    "\n",
    "        if self.transform is not None:\n",
    "            img = self.transform(img)\n",
    "\n",
    "        return (img, label)"
   ]
  },
  {
   "cell_type": "code",
   "execution_count": 56,
   "id": "04b27dae-456e-4f54-8805-9c9b54f4e1db",
   "metadata": {
    "execution": {
     "iopub.execute_input": "2023-05-02T10:13:26.608532Z",
     "iopub.status.busy": "2023-05-02T10:13:26.608206Z",
     "iopub.status.idle": "2023-05-02T10:13:26.616309Z",
     "shell.execute_reply": "2023-05-02T10:13:26.615208Z",
     "shell.execute_reply.started": "2023-05-02T10:13:26.608506Z"
    }
   },
   "outputs": [],
   "source": [
    "'''\n",
    "DINO Transform\n",
    "'''\n",
    "\n",
    "transform_train = T.Compose([\n",
    "    T.GaussianBlur(9, sigma=(0.1, 2.0)),\n",
    "    T.Resize((patch_h * 14, patch_w * 14)),\n",
    "    T.CenterCrop((patch_h * 14, patch_w * 14)),\n",
    "    T.ToTensor(),\n",
    "    T.Normalize(mean=(0.485, 0.456, 0.406), std=(0.229, 0.224, 0.225)),\n",
    "])\n",
    "\n",
    "train_dataset = SnakeTrainDataset(DATA_DIR, train_df[:50], bbox=True, transform=transform_train) # data augmentation. set augmentations = None to disable augmentations\n",
    "valid_dataset = SnakeTrainDataset(VAL_DIR, valid_df[:50], bbox=True, transform=transform_train) # data augmentation. set augmentations = None to disable augmentations\n",
    "\n",
    "train_dataloader = DataLoader(train_dataset, batch_size = CFG.batch_size, shuffle = CFG.shuffle)\n",
    "valid_dataloader = DataLoader(valid_dataset, batch_size = CFG.batch_size, shuffle = CFG.shuffle)\n",
    "\n"
   ]
  },
  {
   "cell_type": "code",
   "execution_count": 57,
   "id": "9eae780d",
   "metadata": {},
   "outputs": [],
   "source": [
    "loss_fn = loss_functions.LOSSES[CFG.loss]\n",
    "opt_fn = training.OPTIMIZERS[CFG.optimizer]\n",
    "sched_fn = training.SCHEDULERS[CFG.scheduler]"
   ]
  },
  {
   "cell_type": "code",
   "execution_count": 58,
   "id": "14b67757",
   "metadata": {},
   "outputs": [],
   "source": [
    "# create trainer\n",
    "\n",
    "criterion = loss_fn()\n",
    "\n",
    "trainer = training_dino.Trainer(\n",
    "    dinov2_vitg14,\n",
    "    model,\n",
    "    train_dataloader,\n",
    "    criterion,\n",
    "    opt_fn,\n",
    "    sched_fn,\n",
    "    validloader=valid_dataloader,\n",
    "    accumulation_steps=CFG.total_batch_size // CFG.batch_size,\n",
    "    path='.',\n",
    "    model_filename=CFG.model_name,\n",
    "    history_filename=CFG.history_file,\n",
    "    device=device)\n"
   ]
  },
  {
   "cell_type": "code",
   "execution_count": null,
   "id": "7d4d5c35",
   "metadata": {},
   "outputs": [],
   "source": [
    "trainer.train(no_epochs=CFG.no_epochs, lr=CFG.learning_rate)"
   ]
  },
  {
   "cell_type": "code",
   "execution_count": null,
   "id": "2b68e5b7",
   "metadata": {},
   "outputs": [],
   "source": []
  }
 ],
 "metadata": {
  "kernelspec": {
   "display_name": "Python 3 (ipykernel)",
   "language": "python",
   "name": "python3"
  },
  "language_info": {
   "codemirror_mode": {
    "name": "ipython",
    "version": 3
   },
   "file_extension": ".py",
   "mimetype": "text/x-python",
   "name": "python",
   "nbconvert_exporter": "python",
   "pygments_lexer": "ipython3",
   "version": "3.9.7"
  }
 },
 "nbformat": 4,
 "nbformat_minor": 5
}
